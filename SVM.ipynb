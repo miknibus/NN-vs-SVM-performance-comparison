{
 "cells": [
  {
   "cell_type": "code",
   "execution_count": 1,
   "metadata": {},
   "outputs": [
    {
     "output_type": "stream",
     "name": "stdout",
     "text": "(50000, 784)\n"
    }
   ],
   "source": [
    "import numpy as np\n",
    "import pandas as pd\n",
    "import tensorflow as tf\n",
    "from tensorflow import keras\n",
    "from sklearn.svm import SVC\n",
    "from sklearn.model_selection import validation_curve\n",
    "from sklearn.model_selection import KFold\n",
    "from sklearn.model_selection import cross_val_score\n",
    "from sklearn.model_selection import GridSearchCV\n",
    "import matplotlib.pyplot as plt\n",
    "\n",
    "class_names = np.arange(10)\n",
    "\n",
    "(x_train, y_train), (x_test, y_test) = keras.datasets.mnist.load_data()\n",
    "\n",
    "# Preprocess the data (these are Numpy arrays)\n",
    "x_train = x_train.reshape(60000, 784).astype('float32') / 255\n",
    "x_test = x_test.reshape(10000, 784).astype('float32') / 255\n",
    "\n",
    "y_train = y_train.astype('float32')\n",
    "y_test = y_test.astype('float32')\n",
    "\n",
    "# Reserve 10,000 samples for validation\n",
    "x_val = x_train[-10000:]\n",
    "y_val = y_train[-10000:]\n",
    "x_train = x_train[:-10000]\n",
    "y_train = y_train[:-10000]\n",
    "print(x_train.shape)"
   ]
  },
  {
   "cell_type": "code",
   "execution_count": 2,
   "metadata": {},
   "outputs": [
    {
     "output_type": "stream",
     "name": "stdout",
     "text": "Fitting 10 folds for each of 9 candidates, totalling 90 fits\n[Parallel(n_jobs=-1)]: Using backend LokyBackend with 8 concurrent workers.\n[Parallel(n_jobs=-1)]: Done  34 tasks      | elapsed: 206.6min\n[Parallel(n_jobs=-1)]: Done  90 out of  90 | elapsed: 455.2min finished\n"
    },
    {
     "output_type": "execute_result",
     "data": {
      "text/plain": "GridSearchCV(cv=KFold(n_splits=10, random_state=None, shuffle=False),\n             error_score=nan,\n             estimator=SVC(C=1.0, break_ties=False, cache_size=200,\n                           class_weight=None, coef0=0.0,\n                           decision_function_shape='ovr', degree=3,\n                           gamma='scale', kernel='rbf', max_iter=-1,\n                           probability=False, random_state=None, shrinking=True,\n                           tol=0.001, verbose=False),\n             iid='deprecated', n_jobs=-1,\n             param_grid=[{'C': [5, 10, 15], 'gamma': [0.01, 0.001, 0.0001]}],\n             pre_dispatch='2*n_jobs', refit=True, return_train_score=True,\n             scoring='accuracy', verbose=1)"
     },
     "metadata": {},
     "execution_count": 2
    }
   ],
   "source": [
    "# creating a KFold object with 10 splits \n",
    "folds = KFold(n_splits = 10)\n",
    "\n",
    "# specify range of hyperparameters\n",
    "# Set the parameters by cross-validation\n",
    "hyper_params = [ {'gamma': [1e-2, 1e-3, 1e-4],\n",
    "                     'C': [5, 10, 15]}]\n",
    "\n",
    "# specify model\n",
    "model = SVC(kernel=\"rbf\")\n",
    "\n",
    "# set up GridSearchCV()\n",
    "model_cv = GridSearchCV(estimator = model, \n",
    "                        param_grid = hyper_params, \n",
    "                        scoring= 'accuracy', \n",
    "                        cv = folds, \n",
    "                        verbose = 1,\n",
    "                        n_jobs=-1,\n",
    "                        return_train_score=True)      \n",
    "\n",
    "# fit the model\n",
    "model_cv.fit(x_train, y_train)"
   ]
  },
  {
   "cell_type": "code",
   "execution_count": 4,
   "metadata": {},
   "outputs": [
    {
     "output_type": "stream",
     "name": "stdout",
     "text": "mean_fit_time  std_fit_time  mean_score_time  std_score_time param_C  \\\n0     967.099733    221.481038       197.927092       45.692427       5   \n1     711.584545     28.583201       141.558314        4.753851       5   \n2    1540.748403     61.248534       244.972260        7.632229       5   \n3     533.799763     20.718123       111.443425        3.699602      10   \n4     597.064827     21.881857       123.772812        4.604467      10   \n5    1179.127373     40.329006       206.966229        7.223833      10   \n6     532.865728     19.789864       110.977899        3.949826      15   \n7     552.602026     19.356748       117.000862        4.243641      15   \n8     955.475026    132.599049       160.718769       53.816893      15   \n\n  param_gamma                      params  split0_test_score  \\\n0        0.01     {'C': 5, 'gamma': 0.01}             0.9832   \n1       0.001    {'C': 5, 'gamma': 0.001}             0.9526   \n2      0.0001   {'C': 5, 'gamma': 0.0001}             0.9322   \n3        0.01    {'C': 10, 'gamma': 0.01}             0.9830   \n4       0.001   {'C': 10, 'gamma': 0.001}             0.9584   \n5      0.0001  {'C': 10, 'gamma': 0.0001}             0.9372   \n6        0.01    {'C': 15, 'gamma': 0.01}             0.9828   \n7       0.001   {'C': 15, 'gamma': 0.001}             0.9604   \n8      0.0001  {'C': 15, 'gamma': 0.0001}             0.9404   \n\n   split1_test_score  split2_test_score  ...  split2_train_score  \\\n0             0.9798             0.9800  ...            0.998111   \n1             0.9440             0.9418  ...            0.953778   \n2             0.9188             0.9150  ...            0.923756   \n3             0.9812             0.9818  ...            0.999467   \n4             0.9496             0.9472  ...            0.961400   \n5             0.9252             0.9220  ...            0.930889   \n6             0.9812             0.9816  ...            0.999889   \n7             0.9532             0.9516  ...            0.966578   \n8             0.9294             0.9240  ...            0.934844   \n\n   split3_train_score  split4_train_score  split5_train_score  \\\n0            0.998133            0.998178            0.998311   \n1            0.953667            0.954200            0.953622   \n2            0.923156            0.923222            0.922956   \n3            0.999578            0.999533            0.999533   \n4            0.961444            0.961467            0.962333   \n5            0.930356            0.930356            0.930089   \n6            0.999867            0.999867            0.999844   \n7            0.966378            0.966467            0.966911   \n8            0.934800            0.934156            0.934622   \n\n   split6_train_score  split7_train_score  split8_train_score  \\\n0            0.998133            0.998178            0.998133   \n1            0.954489            0.953911            0.954022   \n2            0.924067            0.923267            0.923333   \n3            0.999400            0.999533            0.999511   \n4            0.962311            0.961822            0.962089   \n5            0.931444            0.930800            0.930644   \n6            0.999844            0.999911            0.999889   \n7            0.967333            0.967156            0.966444   \n8            0.935200            0.934711            0.934533   \n\n   split9_train_score  mean_train_score  std_train_score  \n0            0.998244          0.998209         0.000087  \n1            0.954156          0.953884         0.000385  \n2            0.924244          0.923304         0.000603  \n3            0.999622          0.999524         0.000056  \n4            0.962111          0.961873         0.000382  \n5            0.931600          0.930589         0.000592  \n6            0.999822          0.999862         0.000026  \n7            0.967533          0.966867         0.000409  \n8            0.935733          0.934678         0.000495  \n\n[9 rows x 32 columns]\nThe best test score is 0.9803599999999999 corresponding to hyperparameters {'C': 15, 'gamma': 0.01}\n"
    }
   ],
   "source": [
    "# cv results\n",
    "cv_results = pd.DataFrame(model_cv.cv_results_)\n",
    "print(cv_results)\n",
    "\n",
    "# printing the optimal accuracy score and hyperparameters\n",
    "best_score = model_cv.best_score_\n",
    "best_hyperparams = model_cv.best_params_\n",
    "\n",
    "print(f'The best test score is {best_score} corresponding to hyperparameters {best_hyperparams}')"
   ]
  },
  {
   "cell_type": "code",
   "execution_count": null,
   "metadata": {},
   "outputs": [],
   "source": []
  }
 ],
 "metadata": {
  "language_info": {
   "codemirror_mode": {
    "name": "ipython",
    "version": 3
   },
   "file_extension": ".py",
   "mimetype": "text/x-python",
   "name": "python",
   "nbconvert_exporter": "python",
   "pygments_lexer": "ipython3",
   "version": "3.8.1-final"
  },
  "orig_nbformat": 2,
  "kernelspec": {
   "name": "python38164bit6cfe0cbd144c4361a6502b3bbb40a00c",
   "display_name": "Python 3.8.1 64-bit"
  }
 },
 "nbformat": 4,
 "nbformat_minor": 2
}